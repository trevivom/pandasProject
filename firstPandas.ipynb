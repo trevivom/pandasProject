{
 "cells": [
  {
   "cell_type": "code",
   "execution_count": 1,
   "id": "057d9ff4",
   "metadata": {},
   "outputs": [],
   "source": [
    "# 데이터분석 라이브러리 pandas 가져와 pd로 축약어 사용\n",
    "import pandas as pd\n",
    "# 배열 연산 라이브러리 numpy 가져와 np로 축약어 사용\n",
    "import numpy as np\n",
    "# 그래프 그리는 라이브러리 matplotlib 중 일부 가져오기\n",
    "import matplotlib.pyplot as plt"
   ]
  },
  {
   "cell_type": "code",
   "execution_count": null,
   "id": "c457befd",
   "metadata": {},
   "outputs": [],
   "source": [
    "# pandas Series 실행해보기\n",
    "s = pd.Series([1, 3, 5, np.nan, 6, 8])"
   ]
  },
  {
   "cell_type": "code",
   "execution_count": null,
   "id": "f6999725",
   "metadata": {},
   "outputs": [],
   "source": [
    "s"
   ]
  },
  {
   "cell_type": "code",
   "execution_count": 2,
   "id": "ef6785f7",
   "metadata": {},
   "outputs": [
    {
     "data": {
      "text/plain": [
       "DatetimeIndex(['2030-01-01', '2030-01-02', '2030-01-03', '2030-01-04',\n",
       "               '2030-01-05', '2030-01-06'],\n",
       "              dtype='datetime64[ns]', freq='D')"
      ]
     },
     "execution_count": 2,
     "metadata": {},
     "output_type": "execute_result"
    }
   ],
   "source": [
    "# pandas DataFrame 사용하기\n",
    "dates = pd.date_range('20300101', periods=6)\n",
    "dates "
   ]
  },
  {
   "cell_type": "code",
   "execution_count": 3,
   "id": "1adab3ff",
   "metadata": {},
   "outputs": [
    {
     "data": {
      "text/html": [
       "<div>\n",
       "<style scoped>\n",
       "    .dataframe tbody tr th:only-of-type {\n",
       "        vertical-align: middle;\n",
       "    }\n",
       "\n",
       "    .dataframe tbody tr th {\n",
       "        vertical-align: top;\n",
       "    }\n",
       "\n",
       "    .dataframe thead th {\n",
       "        text-align: right;\n",
       "    }\n",
       "</style>\n",
       "<table border=\"1\" class=\"dataframe\">\n",
       "  <thead>\n",
       "    <tr style=\"text-align: right;\">\n",
       "      <th></th>\n",
       "      <th>A</th>\n",
       "      <th>B</th>\n",
       "      <th>C</th>\n",
       "      <th>D</th>\n",
       "    </tr>\n",
       "  </thead>\n",
       "  <tbody>\n",
       "    <tr>\n",
       "      <th>2030-01-01</th>\n",
       "      <td>-1.027766</td>\n",
       "      <td>-0.595432</td>\n",
       "      <td>-0.023717</td>\n",
       "      <td>-0.975218</td>\n",
       "    </tr>\n",
       "    <tr>\n",
       "      <th>2030-01-02</th>\n",
       "      <td>0.668452</td>\n",
       "      <td>-1.396817</td>\n",
       "      <td>0.451586</td>\n",
       "      <td>1.613392</td>\n",
       "    </tr>\n",
       "    <tr>\n",
       "      <th>2030-01-03</th>\n",
       "      <td>0.585557</td>\n",
       "      <td>0.601437</td>\n",
       "      <td>-0.623310</td>\n",
       "      <td>-0.413874</td>\n",
       "    </tr>\n",
       "    <tr>\n",
       "      <th>2030-01-04</th>\n",
       "      <td>-0.623264</td>\n",
       "      <td>-0.128100</td>\n",
       "      <td>2.029726</td>\n",
       "      <td>0.640683</td>\n",
       "    </tr>\n",
       "    <tr>\n",
       "      <th>2030-01-05</th>\n",
       "      <td>-1.236510</td>\n",
       "      <td>0.290411</td>\n",
       "      <td>0.070861</td>\n",
       "      <td>-1.003233</td>\n",
       "    </tr>\n",
       "    <tr>\n",
       "      <th>2030-01-06</th>\n",
       "      <td>-1.085668</td>\n",
       "      <td>0.049273</td>\n",
       "      <td>1.666194</td>\n",
       "      <td>1.261022</td>\n",
       "    </tr>\n",
       "  </tbody>\n",
       "</table>\n",
       "</div>"
      ],
      "text/plain": [
       "                   A         B         C         D\n",
       "2030-01-01 -1.027766 -0.595432 -0.023717 -0.975218\n",
       "2030-01-02  0.668452 -1.396817  0.451586  1.613392\n",
       "2030-01-03  0.585557  0.601437 -0.623310 -0.413874\n",
       "2030-01-04 -0.623264 -0.128100  2.029726  0.640683\n",
       "2030-01-05 -1.236510  0.290411  0.070861 -1.003233\n",
       "2030-01-06 -1.085668  0.049273  1.666194  1.261022"
      ]
     },
     "execution_count": 3,
     "metadata": {},
     "output_type": "execute_result"
    }
   ],
   "source": [
    "df = pd.DataFrame(np.random.randn(6,4), index=dates, columns=list('ABCD'))\n",
    "df"
   ]
  },
  {
   "cell_type": "code",
   "execution_count": null,
   "id": "4c48e23f",
   "metadata": {},
   "outputs": [],
   "source": [
    "df2 = pd.DataFrame({'A': 1.,\n",
    "                    'B': pd.Timestamp('20300102'),\n",
    "                    'C': pd.Series(1, index=list(range(4)), dtype='float32'),\n",
    "                    'D': np.array([3]*4, dtype='int32'),\n",
    "                    'E': pd.Categorical(['test', 'train', 'test', 'train']),\n",
    "                    'F': 'foo'\n",
    "                   })\n",
    "df2"
   ]
  },
  {
   "cell_type": "code",
   "execution_count": null,
   "id": "d59c974a",
   "metadata": {},
   "outputs": [],
   "source": [
    "df2.dtypes"
   ]
  },
  {
   "cell_type": "code",
   "execution_count": null,
   "id": "1dd210c8",
   "metadata": {},
   "outputs": [],
   "source": [
    "dir(df2)"
   ]
  },
  {
   "cell_type": "code",
   "execution_count": null,
   "id": "9093d802",
   "metadata": {},
   "outputs": [],
   "source": [
    "# 첫 5개 행의 데이터를 보여줍니다.\n",
    "df.head()"
   ]
  },
  {
   "cell_type": "code",
   "execution_count": null,
   "id": "3c67dcba",
   "metadata": {},
   "outputs": [],
   "source": [
    "# 마지막 3개 행의 데이터를 보여줍니다.\n",
    "df.tail(3)"
   ]
  },
  {
   "cell_type": "code",
   "execution_count": null,
   "id": "7f138bfa",
   "metadata": {},
   "outputs": [],
   "source": [
    "# DataFrame의 인덱스를 보기\n",
    "df.index"
   ]
  },
  {
   "cell_type": "code",
   "execution_count": null,
   "id": "1dda4442",
   "metadata": {},
   "outputs": [],
   "source": [
    "# 컬럼을 보기.\n",
    "df.columns"
   ]
  },
  {
   "cell_type": "code",
   "execution_count": null,
   "id": "7063f87a",
   "metadata": {},
   "outputs": [],
   "source": [
    "# numpy 데이터 살펴보기.\n",
    "df.values"
   ]
  },
  {
   "cell_type": "code",
   "execution_count": null,
   "id": "595bf327",
   "metadata": {},
   "outputs": [],
   "source": [
    "# DataFrame의 간단한 통계 정보\n",
    "df.describe()"
   ]
  },
  {
   "cell_type": "code",
   "execution_count": null,
   "id": "4934af12",
   "metadata": {},
   "outputs": [],
   "source": [
    "# 열과 행을 바꾼 형태의 DataFrame\n",
    "df.T"
   ]
  },
  {
   "cell_type": "code",
   "execution_count": null,
   "id": "ccf47f14",
   "metadata": {},
   "outputs": [],
   "source": [
    "# 행과 열 이름을 정렬해보자.\n",
    "# axis=0은 인덱스, axis=1은 컬럼 기준\n",
    "# ascending=True는 오름차순, False는 내림차순\n",
    "df. sort_index(axis=1, ascending=False)"
   ]
  },
  {
   "cell_type": "code",
   "execution_count": null,
   "id": "50673ee4",
   "metadata": {},
   "outputs": [],
   "source": [
    "# DataFrame 내부 값으로 정렬하기.\n",
    "df. sort_values(by='B')"
   ]
  },
  {
   "cell_type": "code",
   "execution_count": null,
   "id": "f2679519",
   "metadata": {},
   "outputs": [],
   "source": [
    "df. sort_values(by='B', ascending=False)"
   ]
  },
  {
   "cell_type": "code",
   "execution_count": 4,
   "id": "50f1fcdc",
   "metadata": {},
   "outputs": [
    {
     "data": {
      "text/plain": [
       "2030-01-01   -1.027766\n",
       "2030-01-02    0.668452\n",
       "2030-01-03    0.585557\n",
       "2030-01-04   -0.623264\n",
       "2030-01-05   -1.236510\n",
       "2030-01-06   -1.085668\n",
       "Freq: D, Name: A, dtype: float64"
      ]
     },
     "execution_count": 4,
     "metadata": {},
     "output_type": "execute_result"
    }
   ],
   "source": [
    "df['A']"
   ]
  },
  {
   "cell_type": "code",
   "execution_count": 5,
   "id": "8b8033ab",
   "metadata": {},
   "outputs": [
    {
     "data": {
      "text/plain": [
       "pandas.core.series.Series"
      ]
     },
     "execution_count": 5,
     "metadata": {},
     "output_type": "execute_result"
    }
   ],
   "source": [
    "type(df['A'])"
   ]
  },
  {
   "cell_type": "code",
   "execution_count": 6,
   "id": "485e2197",
   "metadata": {},
   "outputs": [
    {
     "data": {
      "text/html": [
       "<div>\n",
       "<style scoped>\n",
       "    .dataframe tbody tr th:only-of-type {\n",
       "        vertical-align: middle;\n",
       "    }\n",
       "\n",
       "    .dataframe tbody tr th {\n",
       "        vertical-align: top;\n",
       "    }\n",
       "\n",
       "    .dataframe thead th {\n",
       "        text-align: right;\n",
       "    }\n",
       "</style>\n",
       "<table border=\"1\" class=\"dataframe\">\n",
       "  <thead>\n",
       "    <tr style=\"text-align: right;\">\n",
       "      <th></th>\n",
       "      <th>A</th>\n",
       "      <th>B</th>\n",
       "      <th>C</th>\n",
       "      <th>D</th>\n",
       "    </tr>\n",
       "  </thead>\n",
       "  <tbody>\n",
       "    <tr>\n",
       "      <th>2030-01-01</th>\n",
       "      <td>-1.027766</td>\n",
       "      <td>-0.595432</td>\n",
       "      <td>-0.023717</td>\n",
       "      <td>-0.975218</td>\n",
       "    </tr>\n",
       "    <tr>\n",
       "      <th>2030-01-02</th>\n",
       "      <td>0.668452</td>\n",
       "      <td>-1.396817</td>\n",
       "      <td>0.451586</td>\n",
       "      <td>1.613392</td>\n",
       "    </tr>\n",
       "    <tr>\n",
       "      <th>2030-01-03</th>\n",
       "      <td>0.585557</td>\n",
       "      <td>0.601437</td>\n",
       "      <td>-0.623310</td>\n",
       "      <td>-0.413874</td>\n",
       "    </tr>\n",
       "  </tbody>\n",
       "</table>\n",
       "</div>"
      ],
      "text/plain": [
       "                   A         B         C         D\n",
       "2030-01-01 -1.027766 -0.595432 -0.023717 -0.975218\n",
       "2030-01-02  0.668452 -1.396817  0.451586  1.613392\n",
       "2030-01-03  0.585557  0.601437 -0.623310 -0.413874"
      ]
     },
     "execution_count": 6,
     "metadata": {},
     "output_type": "execute_result"
    }
   ],
   "source": [
    "# 맨 처음 3개의 행을 가져옵니다.\n",
    "df[0:3]"
   ]
  },
  {
   "cell_type": "code",
   "execution_count": 7,
   "id": "d8e240da",
   "metadata": {},
   "outputs": [
    {
     "data": {
      "text/html": [
       "<div>\n",
       "<style scoped>\n",
       "    .dataframe tbody tr th:only-of-type {\n",
       "        vertical-align: middle;\n",
       "    }\n",
       "\n",
       "    .dataframe tbody tr th {\n",
       "        vertical-align: top;\n",
       "    }\n",
       "\n",
       "    .dataframe thead th {\n",
       "        text-align: right;\n",
       "    }\n",
       "</style>\n",
       "<table border=\"1\" class=\"dataframe\">\n",
       "  <thead>\n",
       "    <tr style=\"text-align: right;\">\n",
       "      <th></th>\n",
       "      <th>A</th>\n",
       "      <th>B</th>\n",
       "      <th>C</th>\n",
       "      <th>D</th>\n",
       "    </tr>\n",
       "  </thead>\n",
       "  <tbody>\n",
       "    <tr>\n",
       "      <th>2030-01-02</th>\n",
       "      <td>0.668452</td>\n",
       "      <td>-1.396817</td>\n",
       "      <td>0.451586</td>\n",
       "      <td>1.613392</td>\n",
       "    </tr>\n",
       "    <tr>\n",
       "      <th>2030-01-03</th>\n",
       "      <td>0.585557</td>\n",
       "      <td>0.601437</td>\n",
       "      <td>-0.623310</td>\n",
       "      <td>-0.413874</td>\n",
       "    </tr>\n",
       "    <tr>\n",
       "      <th>2030-01-04</th>\n",
       "      <td>-0.623264</td>\n",
       "      <td>-0.128100</td>\n",
       "      <td>2.029726</td>\n",
       "      <td>0.640683</td>\n",
       "    </tr>\n",
       "  </tbody>\n",
       "</table>\n",
       "</div>"
      ],
      "text/plain": [
       "                   A         B         C         D\n",
       "2030-01-02  0.668452 -1.396817  0.451586  1.613392\n",
       "2030-01-03  0.585557  0.601437 -0.623310 -0.413874\n",
       "2030-01-04 -0.623264 -0.128100  2.029726  0.640683"
      ]
     },
     "execution_count": 7,
     "metadata": {},
     "output_type": "execute_result"
    }
   ],
   "source": [
    "# 인덱스명에 해당하는 값을 가져온다.\n",
    "df['20300102': '20300104']"
   ]
  },
  {
   "cell_type": "code",
   "execution_count": 8,
   "id": "a4aa1286",
   "metadata": {},
   "outputs": [
    {
     "data": {
      "text/plain": [
       "A   -1.027766\n",
       "B   -0.595432\n",
       "C   -0.023717\n",
       "D   -0.975218\n",
       "Name: 2030-01-01 00:00:00, dtype: float64"
      ]
     },
     "execution_count": 8,
     "metadata": {},
     "output_type": "execute_result"
    }
   ],
   "source": [
    "# 이름을 이용해 선택하기 .loc\n",
    "df.loc[dates[0]]"
   ]
  },
  {
   "cell_type": "code",
   "execution_count": 9,
   "id": "6890a95c",
   "metadata": {},
   "outputs": [
    {
     "data": {
      "text/html": [
       "<div>\n",
       "<style scoped>\n",
       "    .dataframe tbody tr th:only-of-type {\n",
       "        vertical-align: middle;\n",
       "    }\n",
       "\n",
       "    .dataframe tbody tr th {\n",
       "        vertical-align: top;\n",
       "    }\n",
       "\n",
       "    .dataframe thead th {\n",
       "        text-align: right;\n",
       "    }\n",
       "</style>\n",
       "<table border=\"1\" class=\"dataframe\">\n",
       "  <thead>\n",
       "    <tr style=\"text-align: right;\">\n",
       "      <th></th>\n",
       "      <th>A</th>\n",
       "      <th>B</th>\n",
       "    </tr>\n",
       "  </thead>\n",
       "  <tbody>\n",
       "    <tr>\n",
       "      <th>2030-01-01</th>\n",
       "      <td>-1.027766</td>\n",
       "      <td>-0.595432</td>\n",
       "    </tr>\n",
       "    <tr>\n",
       "      <th>2030-01-02</th>\n",
       "      <td>0.668452</td>\n",
       "      <td>-1.396817</td>\n",
       "    </tr>\n",
       "    <tr>\n",
       "      <th>2030-01-03</th>\n",
       "      <td>0.585557</td>\n",
       "      <td>0.601437</td>\n",
       "    </tr>\n",
       "    <tr>\n",
       "      <th>2030-01-04</th>\n",
       "      <td>-0.623264</td>\n",
       "      <td>-0.128100</td>\n",
       "    </tr>\n",
       "    <tr>\n",
       "      <th>2030-01-05</th>\n",
       "      <td>-1.236510</td>\n",
       "      <td>0.290411</td>\n",
       "    </tr>\n",
       "    <tr>\n",
       "      <th>2030-01-06</th>\n",
       "      <td>-1.085668</td>\n",
       "      <td>0.049273</td>\n",
       "    </tr>\n",
       "  </tbody>\n",
       "</table>\n",
       "</div>"
      ],
      "text/plain": [
       "                   A         B\n",
       "2030-01-01 -1.027766 -0.595432\n",
       "2030-01-02  0.668452 -1.396817\n",
       "2030-01-03  0.585557  0.601437\n",
       "2030-01-04 -0.623264 -0.128100\n",
       "2030-01-05 -1.236510  0.290411\n",
       "2030-01-06 -1.085668  0.049273"
      ]
     },
     "execution_count": 9,
     "metadata": {},
     "output_type": "execute_result"
    }
   ],
   "source": [
    "# 여러 칼럼 가져오기?\n",
    "df.loc[:, ['A', 'B']]"
   ]
  },
  {
   "cell_type": "code",
   "execution_count": 10,
   "id": "43e4708e",
   "metadata": {},
   "outputs": [
    {
     "data": {
      "text/html": [
       "<div>\n",
       "<style scoped>\n",
       "    .dataframe tbody tr th:only-of-type {\n",
       "        vertical-align: middle;\n",
       "    }\n",
       "\n",
       "    .dataframe tbody tr th {\n",
       "        vertical-align: top;\n",
       "    }\n",
       "\n",
       "    .dataframe thead th {\n",
       "        text-align: right;\n",
       "    }\n",
       "</style>\n",
       "<table border=\"1\" class=\"dataframe\">\n",
       "  <thead>\n",
       "    <tr style=\"text-align: right;\">\n",
       "      <th></th>\n",
       "      <th>A</th>\n",
       "      <th>B</th>\n",
       "    </tr>\n",
       "  </thead>\n",
       "  <tbody>\n",
       "    <tr>\n",
       "      <th>2030-01-02</th>\n",
       "      <td>0.668452</td>\n",
       "      <td>-1.396817</td>\n",
       "    </tr>\n",
       "    <tr>\n",
       "      <th>2030-01-03</th>\n",
       "      <td>0.585557</td>\n",
       "      <td>0.601437</td>\n",
       "    </tr>\n",
       "    <tr>\n",
       "      <th>2030-01-04</th>\n",
       "      <td>-0.623264</td>\n",
       "      <td>-0.128100</td>\n",
       "    </tr>\n",
       "  </tbody>\n",
       "</table>\n",
       "</div>"
      ],
      "text/plain": [
       "                   A         B\n",
       "2030-01-02  0.668452 -1.396817\n",
       "2030-01-03  0.585557  0.601437\n",
       "2030-01-04 -0.623264 -0.128100"
      ]
     },
     "execution_count": 10,
     "metadata": {},
     "output_type": "execute_result"
    }
   ],
   "source": [
    "# 원하는 구간 가져오기\n",
    "df.loc['20300102':'20300104', ['A','B']]"
   ]
  },
  {
   "cell_type": "code",
   "execution_count": 11,
   "id": "02f74750",
   "metadata": {},
   "outputs": [
    {
     "data": {
      "text/plain": [
       "A   -1.027766\n",
       "B   -0.595432\n",
       "Name: 2030-01-01 00:00:00, dtype: float64"
      ]
     },
     "execution_count": 11,
     "metadata": {},
     "output_type": "execute_result"
    }
   ],
   "source": [
    "# 특정 인덱스값의 칼럼 'A','B' 가져오기\n",
    "df.loc[dates[0], ['A','B']]"
   ]
  },
  {
   "cell_type": "code",
   "execution_count": 12,
   "id": "2f96796b",
   "metadata": {},
   "outputs": [
    {
     "data": {
      "text/plain": [
       "-1.0277659810520676"
      ]
     },
     "execution_count": 12,
     "metadata": {},
     "output_type": "execute_result"
    }
   ],
   "source": [
    "# 특정 인덱스 값과 특정 칼럼에 있는 값 가져오기\n",
    "# df.loc[dates[0], 'A']\n",
    "df.at[dates[0], 'A']"
   ]
  },
  {
   "cell_type": "code",
   "execution_count": 14,
   "id": "7917bdcd",
   "metadata": {},
   "outputs": [
    {
     "data": {
      "text/plain": [
       "A   -0.623264\n",
       "B   -0.128100\n",
       "C    2.029726\n",
       "D    0.640683\n",
       "Name: 2030-01-04 00:00:00, dtype: float64"
      ]
     },
     "execution_count": 14,
     "metadata": {},
     "output_type": "execute_result"
    }
   ],
   "source": [
    "# 위치를 이용해 선택하기\n",
    "df.iloc[3] # 0 1 2 3 4개 추출."
   ]
  },
  {
   "cell_type": "code",
   "execution_count": 15,
   "id": "e693972a",
   "metadata": {},
   "outputs": [
    {
     "data": {
      "text/html": [
       "<div>\n",
       "<style scoped>\n",
       "    .dataframe tbody tr th:only-of-type {\n",
       "        vertical-align: middle;\n",
       "    }\n",
       "\n",
       "    .dataframe tbody tr th {\n",
       "        vertical-align: top;\n",
       "    }\n",
       "\n",
       "    .dataframe thead th {\n",
       "        text-align: right;\n",
       "    }\n",
       "</style>\n",
       "<table border=\"1\" class=\"dataframe\">\n",
       "  <thead>\n",
       "    <tr style=\"text-align: right;\">\n",
       "      <th></th>\n",
       "      <th>A</th>\n",
       "      <th>B</th>\n",
       "    </tr>\n",
       "  </thead>\n",
       "  <tbody>\n",
       "    <tr>\n",
       "      <th>2030-01-04</th>\n",
       "      <td>-0.623264</td>\n",
       "      <td>-0.128100</td>\n",
       "    </tr>\n",
       "    <tr>\n",
       "      <th>2030-01-05</th>\n",
       "      <td>-1.236510</td>\n",
       "      <td>0.290411</td>\n",
       "    </tr>\n",
       "  </tbody>\n",
       "</table>\n",
       "</div>"
      ],
      "text/plain": [
       "                   A         B\n",
       "2030-01-04 -0.623264 -0.128100\n",
       "2030-01-05 -1.236510  0.290411"
      ]
     },
     "execution_count": 15,
     "metadata": {},
     "output_type": "execute_result"
    }
   ],
   "source": [
    "# 위치를 이용해 범위 선택하기\n",
    "df.iloc[3:5, 0:2]"
   ]
  },
  {
   "cell_type": "code",
   "execution_count": 16,
   "id": "c2fa92b8",
   "metadata": {},
   "outputs": [
    {
     "data": {
      "text/html": [
       "<div>\n",
       "<style scoped>\n",
       "    .dataframe tbody tr th:only-of-type {\n",
       "        vertical-align: middle;\n",
       "    }\n",
       "\n",
       "    .dataframe tbody tr th {\n",
       "        vertical-align: top;\n",
       "    }\n",
       "\n",
       "    .dataframe thead th {\n",
       "        text-align: right;\n",
       "    }\n",
       "</style>\n",
       "<table border=\"1\" class=\"dataframe\">\n",
       "  <thead>\n",
       "    <tr style=\"text-align: right;\">\n",
       "      <th></th>\n",
       "      <th>A</th>\n",
       "      <th>C</th>\n",
       "    </tr>\n",
       "  </thead>\n",
       "  <tbody>\n",
       "    <tr>\n",
       "      <th>2030-01-02</th>\n",
       "      <td>0.668452</td>\n",
       "      <td>0.451586</td>\n",
       "    </tr>\n",
       "    <tr>\n",
       "      <th>2030-01-03</th>\n",
       "      <td>0.585557</td>\n",
       "      <td>-0.623310</td>\n",
       "    </tr>\n",
       "    <tr>\n",
       "      <th>2030-01-05</th>\n",
       "      <td>-1.236510</td>\n",
       "      <td>0.070861</td>\n",
       "    </tr>\n",
       "  </tbody>\n",
       "</table>\n",
       "</div>"
      ],
      "text/plain": [
       "                   A         C\n",
       "2030-01-02  0.668452  0.451586\n",
       "2030-01-03  0.585557 -0.623310\n",
       "2030-01-05 -1.236510  0.070861"
      ]
     },
     "execution_count": 16,
     "metadata": {},
     "output_type": "execute_result"
    }
   ],
   "source": [
    "# 행과 열의 인덱스로 리스트에 넘겨주기.\n",
    "# 2, 3, 5 행 + 1, 3 열\n",
    "df.iloc[[1,2,4], [0,2]]"
   ]
  },
  {
   "cell_type": "code",
   "execution_count": 17,
   "id": "6323bc63",
   "metadata": {},
   "outputs": [
    {
     "data": {
      "text/html": [
       "<div>\n",
       "<style scoped>\n",
       "    .dataframe tbody tr th:only-of-type {\n",
       "        vertical-align: middle;\n",
       "    }\n",
       "\n",
       "    .dataframe tbody tr th {\n",
       "        vertical-align: top;\n",
       "    }\n",
       "\n",
       "    .dataframe thead th {\n",
       "        text-align: right;\n",
       "    }\n",
       "</style>\n",
       "<table border=\"1\" class=\"dataframe\">\n",
       "  <thead>\n",
       "    <tr style=\"text-align: right;\">\n",
       "      <th></th>\n",
       "      <th>A</th>\n",
       "      <th>B</th>\n",
       "      <th>C</th>\n",
       "      <th>D</th>\n",
       "    </tr>\n",
       "  </thead>\n",
       "  <tbody>\n",
       "    <tr>\n",
       "      <th>2030-01-02</th>\n",
       "      <td>0.668452</td>\n",
       "      <td>-1.396817</td>\n",
       "      <td>0.451586</td>\n",
       "      <td>1.613392</td>\n",
       "    </tr>\n",
       "    <tr>\n",
       "      <th>2030-01-03</th>\n",
       "      <td>0.585557</td>\n",
       "      <td>0.601437</td>\n",
       "      <td>-0.623310</td>\n",
       "      <td>-0.413874</td>\n",
       "    </tr>\n",
       "  </tbody>\n",
       "</table>\n",
       "</div>"
      ],
      "text/plain": [
       "                   A         B         C         D\n",
       "2030-01-02  0.668452 -1.396817  0.451586  1.613392\n",
       "2030-01-03  0.585557  0.601437 -0.623310 -0.413874"
      ]
     },
     "execution_count": 17,
     "metadata": {},
     "output_type": "execute_result"
    }
   ],
   "source": [
    "# : -> 열이나 행 전체를 가져오는 기호\n",
    "df.iloc[1:3, :]"
   ]
  },
  {
   "cell_type": "code",
   "execution_count": 18,
   "id": "202281ce",
   "metadata": {},
   "outputs": [
    {
     "data": {
      "text/html": [
       "<div>\n",
       "<style scoped>\n",
       "    .dataframe tbody tr th:only-of-type {\n",
       "        vertical-align: middle;\n",
       "    }\n",
       "\n",
       "    .dataframe tbody tr th {\n",
       "        vertical-align: top;\n",
       "    }\n",
       "\n",
       "    .dataframe thead th {\n",
       "        text-align: right;\n",
       "    }\n",
       "</style>\n",
       "<table border=\"1\" class=\"dataframe\">\n",
       "  <thead>\n",
       "    <tr style=\"text-align: right;\">\n",
       "      <th></th>\n",
       "      <th>B</th>\n",
       "      <th>C</th>\n",
       "    </tr>\n",
       "  </thead>\n",
       "  <tbody>\n",
       "    <tr>\n",
       "      <th>2030-01-01</th>\n",
       "      <td>-0.595432</td>\n",
       "      <td>-0.023717</td>\n",
       "    </tr>\n",
       "    <tr>\n",
       "      <th>2030-01-02</th>\n",
       "      <td>-1.396817</td>\n",
       "      <td>0.451586</td>\n",
       "    </tr>\n",
       "    <tr>\n",
       "      <th>2030-01-03</th>\n",
       "      <td>0.601437</td>\n",
       "      <td>-0.623310</td>\n",
       "    </tr>\n",
       "    <tr>\n",
       "      <th>2030-01-04</th>\n",
       "      <td>-0.128100</td>\n",
       "      <td>2.029726</td>\n",
       "    </tr>\n",
       "    <tr>\n",
       "      <th>2030-01-05</th>\n",
       "      <td>0.290411</td>\n",
       "      <td>0.070861</td>\n",
       "    </tr>\n",
       "    <tr>\n",
       "      <th>2030-01-06</th>\n",
       "      <td>0.049273</td>\n",
       "      <td>1.666194</td>\n",
       "    </tr>\n",
       "  </tbody>\n",
       "</table>\n",
       "</div>"
      ],
      "text/plain": [
       "                   B         C\n",
       "2030-01-01 -0.595432 -0.023717\n",
       "2030-01-02 -1.396817  0.451586\n",
       "2030-01-03  0.601437 -0.623310\n",
       "2030-01-04 -0.128100  2.029726\n",
       "2030-01-05  0.290411  0.070861\n",
       "2030-01-06  0.049273  1.666194"
      ]
     },
     "execution_count": 18,
     "metadata": {},
     "output_type": "execute_result"
    }
   ],
   "source": [
    "df.iloc[:, 1:3]"
   ]
  },
  {
   "cell_type": "code",
   "execution_count": 19,
   "id": "9c4cb118",
   "metadata": {},
   "outputs": [
    {
     "data": {
      "text/plain": [
       "-1.3968168476104643"
      ]
     },
     "execution_count": 19,
     "metadata": {},
     "output_type": "execute_result"
    }
   ],
   "source": [
    "# 값 하나를 선택하자\n",
    "# 특정 행과 열을 지정.\n",
    "df.iloc[1,1]"
   ]
  },
  {
   "cell_type": "code",
   "execution_count": 20,
   "id": "f82e231a",
   "metadata": {},
   "outputs": [
    {
     "data": {
      "text/plain": [
       "-1.3968168476104643"
      ]
     },
     "execution_count": 20,
     "metadata": {},
     "output_type": "execute_result"
    }
   ],
   "source": [
    "df.iat[1,1]"
   ]
  },
  {
   "cell_type": "code",
   "execution_count": 21,
   "id": "636e722e",
   "metadata": {},
   "outputs": [
    {
     "data": {
      "text/html": [
       "<div>\n",
       "<style scoped>\n",
       "    .dataframe tbody tr th:only-of-type {\n",
       "        vertical-align: middle;\n",
       "    }\n",
       "\n",
       "    .dataframe tbody tr th {\n",
       "        vertical-align: top;\n",
       "    }\n",
       "\n",
       "    .dataframe thead th {\n",
       "        text-align: right;\n",
       "    }\n",
       "</style>\n",
       "<table border=\"1\" class=\"dataframe\">\n",
       "  <thead>\n",
       "    <tr style=\"text-align: right;\">\n",
       "      <th></th>\n",
       "      <th>A</th>\n",
       "      <th>B</th>\n",
       "      <th>C</th>\n",
       "      <th>D</th>\n",
       "    </tr>\n",
       "  </thead>\n",
       "  <tbody>\n",
       "    <tr>\n",
       "      <th>2030-01-02</th>\n",
       "      <td>0.668452</td>\n",
       "      <td>-1.396817</td>\n",
       "      <td>0.451586</td>\n",
       "      <td>1.613392</td>\n",
       "    </tr>\n",
       "    <tr>\n",
       "      <th>2030-01-03</th>\n",
       "      <td>0.585557</td>\n",
       "      <td>0.601437</td>\n",
       "      <td>-0.623310</td>\n",
       "      <td>-0.413874</td>\n",
       "    </tr>\n",
       "  </tbody>\n",
       "</table>\n",
       "</div>"
      ],
      "text/plain": [
       "                   A         B         C         D\n",
       "2030-01-02  0.668452 -1.396817  0.451586  1.613392\n",
       "2030-01-03  0.585557  0.601437 -0.623310 -0.413874"
      ]
     },
     "execution_count": 21,
     "metadata": {},
     "output_type": "execute_result"
    }
   ],
   "source": [
    "# 조건을 이용하기\n",
    "# A라는 열에 들어있는 값이 양수인 경우에 해당하는 행 선택\n",
    "df[df.A > 0]"
   ]
  },
  {
   "cell_type": "code",
   "execution_count": 22,
   "id": "912518f4",
   "metadata": {},
   "outputs": [
    {
     "data": {
      "text/html": [
       "<div>\n",
       "<style scoped>\n",
       "    .dataframe tbody tr th:only-of-type {\n",
       "        vertical-align: middle;\n",
       "    }\n",
       "\n",
       "    .dataframe tbody tr th {\n",
       "        vertical-align: top;\n",
       "    }\n",
       "\n",
       "    .dataframe thead th {\n",
       "        text-align: right;\n",
       "    }\n",
       "</style>\n",
       "<table border=\"1\" class=\"dataframe\">\n",
       "  <thead>\n",
       "    <tr style=\"text-align: right;\">\n",
       "      <th></th>\n",
       "      <th>A</th>\n",
       "      <th>B</th>\n",
       "      <th>C</th>\n",
       "      <th>D</th>\n",
       "    </tr>\n",
       "  </thead>\n",
       "  <tbody>\n",
       "    <tr>\n",
       "      <th>2030-01-01</th>\n",
       "      <td>NaN</td>\n",
       "      <td>NaN</td>\n",
       "      <td>NaN</td>\n",
       "      <td>NaN</td>\n",
       "    </tr>\n",
       "    <tr>\n",
       "      <th>2030-01-02</th>\n",
       "      <td>0.668452</td>\n",
       "      <td>NaN</td>\n",
       "      <td>0.451586</td>\n",
       "      <td>1.613392</td>\n",
       "    </tr>\n",
       "    <tr>\n",
       "      <th>2030-01-03</th>\n",
       "      <td>0.585557</td>\n",
       "      <td>0.601437</td>\n",
       "      <td>NaN</td>\n",
       "      <td>NaN</td>\n",
       "    </tr>\n",
       "    <tr>\n",
       "      <th>2030-01-04</th>\n",
       "      <td>NaN</td>\n",
       "      <td>NaN</td>\n",
       "      <td>2.029726</td>\n",
       "      <td>0.640683</td>\n",
       "    </tr>\n",
       "    <tr>\n",
       "      <th>2030-01-05</th>\n",
       "      <td>NaN</td>\n",
       "      <td>0.290411</td>\n",
       "      <td>0.070861</td>\n",
       "      <td>NaN</td>\n",
       "    </tr>\n",
       "    <tr>\n",
       "      <th>2030-01-06</th>\n",
       "      <td>NaN</td>\n",
       "      <td>0.049273</td>\n",
       "      <td>1.666194</td>\n",
       "      <td>1.261022</td>\n",
       "    </tr>\n",
       "  </tbody>\n",
       "</table>\n",
       "</div>"
      ],
      "text/plain": [
       "                   A         B         C         D\n",
       "2030-01-01       NaN       NaN       NaN       NaN\n",
       "2030-01-02  0.668452       NaN  0.451586  1.613392\n",
       "2030-01-03  0.585557  0.601437       NaN       NaN\n",
       "2030-01-04       NaN       NaN  2.029726  0.640683\n",
       "2030-01-05       NaN  0.290411  0.070861       NaN\n",
       "2030-01-06       NaN  0.049273  1.666194  1.261022"
      ]
     },
     "execution_count": 22,
     "metadata": {},
     "output_type": "execute_result"
    }
   ],
   "source": [
    "df[df > 0]"
   ]
  },
  {
   "cell_type": "code",
   "execution_count": 24,
   "id": "929de065",
   "metadata": {},
   "outputs": [
    {
     "data": {
      "text/html": [
       "<div>\n",
       "<style scoped>\n",
       "    .dataframe tbody tr th:only-of-type {\n",
       "        vertical-align: middle;\n",
       "    }\n",
       "\n",
       "    .dataframe tbody tr th {\n",
       "        vertical-align: top;\n",
       "    }\n",
       "\n",
       "    .dataframe thead th {\n",
       "        text-align: right;\n",
       "    }\n",
       "</style>\n",
       "<table border=\"1\" class=\"dataframe\">\n",
       "  <thead>\n",
       "    <tr style=\"text-align: right;\">\n",
       "      <th></th>\n",
       "      <th>A</th>\n",
       "      <th>B</th>\n",
       "      <th>C</th>\n",
       "      <th>D</th>\n",
       "      <th>E</th>\n",
       "    </tr>\n",
       "  </thead>\n",
       "  <tbody>\n",
       "    <tr>\n",
       "      <th>2030-01-01</th>\n",
       "      <td>-1.027766</td>\n",
       "      <td>-0.595432</td>\n",
       "      <td>-0.023717</td>\n",
       "      <td>-0.975218</td>\n",
       "      <td>one</td>\n",
       "    </tr>\n",
       "    <tr>\n",
       "      <th>2030-01-02</th>\n",
       "      <td>0.668452</td>\n",
       "      <td>-1.396817</td>\n",
       "      <td>0.451586</td>\n",
       "      <td>1.613392</td>\n",
       "      <td>one</td>\n",
       "    </tr>\n",
       "    <tr>\n",
       "      <th>2030-01-03</th>\n",
       "      <td>0.585557</td>\n",
       "      <td>0.601437</td>\n",
       "      <td>-0.623310</td>\n",
       "      <td>-0.413874</td>\n",
       "      <td>two</td>\n",
       "    </tr>\n",
       "    <tr>\n",
       "      <th>2030-01-04</th>\n",
       "      <td>-0.623264</td>\n",
       "      <td>-0.128100</td>\n",
       "      <td>2.029726</td>\n",
       "      <td>0.640683</td>\n",
       "      <td>three</td>\n",
       "    </tr>\n",
       "    <tr>\n",
       "      <th>2030-01-05</th>\n",
       "      <td>-1.236510</td>\n",
       "      <td>0.290411</td>\n",
       "      <td>0.070861</td>\n",
       "      <td>-1.003233</td>\n",
       "      <td>four</td>\n",
       "    </tr>\n",
       "    <tr>\n",
       "      <th>2030-01-06</th>\n",
       "      <td>-1.085668</td>\n",
       "      <td>0.049273</td>\n",
       "      <td>1.666194</td>\n",
       "      <td>1.261022</td>\n",
       "      <td>three</td>\n",
       "    </tr>\n",
       "  </tbody>\n",
       "</table>\n",
       "</div>"
      ],
      "text/plain": [
       "                   A         B         C         D      E\n",
       "2030-01-01 -1.027766 -0.595432 -0.023717 -0.975218    one\n",
       "2030-01-02  0.668452 -1.396817  0.451586  1.613392    one\n",
       "2030-01-03  0.585557  0.601437 -0.623310 -0.413874    two\n",
       "2030-01-04 -0.623264 -0.128100  2.029726  0.640683  three\n",
       "2030-01-05 -1.236510  0.290411  0.070861 -1.003233   four\n",
       "2030-01-06 -1.085668  0.049273  1.666194  1.261022  three"
      ]
     },
     "execution_count": 24,
     "metadata": {},
     "output_type": "execute_result"
    }
   ],
   "source": [
    "# 필터링 isin()\n",
    "df2 = df.copy()\n",
    "df2['E'] = ['one', 'one', 'two', 'three', 'four','three',]\n",
    "df2"
   ]
  },
  {
   "cell_type": "code",
   "execution_count": 25,
   "id": "65a10517",
   "metadata": {},
   "outputs": [
    {
     "data": {
      "text/html": [
       "<div>\n",
       "<style scoped>\n",
       "    .dataframe tbody tr th:only-of-type {\n",
       "        vertical-align: middle;\n",
       "    }\n",
       "\n",
       "    .dataframe tbody tr th {\n",
       "        vertical-align: top;\n",
       "    }\n",
       "\n",
       "    .dataframe thead th {\n",
       "        text-align: right;\n",
       "    }\n",
       "</style>\n",
       "<table border=\"1\" class=\"dataframe\">\n",
       "  <thead>\n",
       "    <tr style=\"text-align: right;\">\n",
       "      <th></th>\n",
       "      <th>A</th>\n",
       "      <th>B</th>\n",
       "      <th>C</th>\n",
       "      <th>D</th>\n",
       "      <th>E</th>\n",
       "    </tr>\n",
       "  </thead>\n",
       "  <tbody>\n",
       "    <tr>\n",
       "      <th>2030-01-03</th>\n",
       "      <td>0.585557</td>\n",
       "      <td>0.601437</td>\n",
       "      <td>-0.623310</td>\n",
       "      <td>-0.413874</td>\n",
       "      <td>two</td>\n",
       "    </tr>\n",
       "    <tr>\n",
       "      <th>2030-01-05</th>\n",
       "      <td>-1.236510</td>\n",
       "      <td>0.290411</td>\n",
       "      <td>0.070861</td>\n",
       "      <td>-1.003233</td>\n",
       "      <td>four</td>\n",
       "    </tr>\n",
       "  </tbody>\n",
       "</table>\n",
       "</div>"
      ],
      "text/plain": [
       "                   A         B         C         D     E\n",
       "2030-01-03  0.585557  0.601437 -0.623310 -0.413874   two\n",
       "2030-01-05 -1.236510  0.290411  0.070861 -1.003233  four"
      ]
     },
     "execution_count": 25,
     "metadata": {},
     "output_type": "execute_result"
    }
   ],
   "source": [
    "df2[df2['E'].isin(['two', 'four'])]"
   ]
  },
  {
   "cell_type": "code",
   "execution_count": 27,
   "id": "03f838e9",
   "metadata": {},
   "outputs": [
    {
     "data": {
      "text/plain": [
       "2030-01-01    1\n",
       "2030-01-02    2\n",
       "2030-01-03    3\n",
       "2030-01-04    4\n",
       "2030-01-05    5\n",
       "2030-01-06    6\n",
       "Freq: D, dtype: int64"
      ]
     },
     "execution_count": 27,
     "metadata": {},
     "output_type": "execute_result"
    }
   ],
   "source": [
    "# 데이터 변경하기\n",
    "s1 = pd.Series([1,2,3,4,5,6], index=pd.date_range('20300101', periods=6))\n",
    "s1"
   ]
  },
  {
   "cell_type": "code",
   "execution_count": 28,
   "id": "15e167b9",
   "metadata": {},
   "outputs": [
    {
     "data": {
      "text/html": [
       "<div>\n",
       "<style scoped>\n",
       "    .dataframe tbody tr th:only-of-type {\n",
       "        vertical-align: middle;\n",
       "    }\n",
       "\n",
       "    .dataframe tbody tr th {\n",
       "        vertical-align: top;\n",
       "    }\n",
       "\n",
       "    .dataframe thead th {\n",
       "        text-align: right;\n",
       "    }\n",
       "</style>\n",
       "<table border=\"1\" class=\"dataframe\">\n",
       "  <thead>\n",
       "    <tr style=\"text-align: right;\">\n",
       "      <th></th>\n",
       "      <th>A</th>\n",
       "      <th>B</th>\n",
       "      <th>C</th>\n",
       "      <th>D</th>\n",
       "      <th>F</th>\n",
       "    </tr>\n",
       "  </thead>\n",
       "  <tbody>\n",
       "    <tr>\n",
       "      <th>2030-01-01</th>\n",
       "      <td>-1.027766</td>\n",
       "      <td>-0.595432</td>\n",
       "      <td>-0.023717</td>\n",
       "      <td>-0.975218</td>\n",
       "      <td>1</td>\n",
       "    </tr>\n",
       "    <tr>\n",
       "      <th>2030-01-02</th>\n",
       "      <td>0.668452</td>\n",
       "      <td>-1.396817</td>\n",
       "      <td>0.451586</td>\n",
       "      <td>1.613392</td>\n",
       "      <td>2</td>\n",
       "    </tr>\n",
       "    <tr>\n",
       "      <th>2030-01-03</th>\n",
       "      <td>0.585557</td>\n",
       "      <td>0.601437</td>\n",
       "      <td>-0.623310</td>\n",
       "      <td>-0.413874</td>\n",
       "      <td>3</td>\n",
       "    </tr>\n",
       "    <tr>\n",
       "      <th>2030-01-04</th>\n",
       "      <td>-0.623264</td>\n",
       "      <td>-0.128100</td>\n",
       "      <td>2.029726</td>\n",
       "      <td>0.640683</td>\n",
       "      <td>4</td>\n",
       "    </tr>\n",
       "    <tr>\n",
       "      <th>2030-01-05</th>\n",
       "      <td>-1.236510</td>\n",
       "      <td>0.290411</td>\n",
       "      <td>0.070861</td>\n",
       "      <td>-1.003233</td>\n",
       "      <td>5</td>\n",
       "    </tr>\n",
       "    <tr>\n",
       "      <th>2030-01-06</th>\n",
       "      <td>-1.085668</td>\n",
       "      <td>0.049273</td>\n",
       "      <td>1.666194</td>\n",
       "      <td>1.261022</td>\n",
       "      <td>6</td>\n",
       "    </tr>\n",
       "  </tbody>\n",
       "</table>\n",
       "</div>"
      ],
      "text/plain": [
       "                   A         B         C         D  F\n",
       "2030-01-01 -1.027766 -0.595432 -0.023717 -0.975218  1\n",
       "2030-01-02  0.668452 -1.396817  0.451586  1.613392  2\n",
       "2030-01-03  0.585557  0.601437 -0.623310 -0.413874  3\n",
       "2030-01-04 -0.623264 -0.128100  2.029726  0.640683  4\n",
       "2030-01-05 -1.236510  0.290411  0.070861 -1.003233  5\n",
       "2030-01-06 -1.085668  0.049273  1.666194  1.261022  6"
      ]
     },
     "execution_count": 28,
     "metadata": {},
     "output_type": "execute_result"
    }
   ],
   "source": [
    "df['F']=s1\n",
    "df"
   ]
  },
  {
   "cell_type": "code",
   "execution_count": 29,
   "id": "e643c6cd",
   "metadata": {},
   "outputs": [
    {
     "data": {
      "text/html": [
       "<div>\n",
       "<style scoped>\n",
       "    .dataframe tbody tr th:only-of-type {\n",
       "        vertical-align: middle;\n",
       "    }\n",
       "\n",
       "    .dataframe tbody tr th {\n",
       "        vertical-align: top;\n",
       "    }\n",
       "\n",
       "    .dataframe thead th {\n",
       "        text-align: right;\n",
       "    }\n",
       "</style>\n",
       "<table border=\"1\" class=\"dataframe\">\n",
       "  <thead>\n",
       "    <tr style=\"text-align: right;\">\n",
       "      <th></th>\n",
       "      <th>A</th>\n",
       "      <th>B</th>\n",
       "      <th>C</th>\n",
       "      <th>D</th>\n",
       "      <th>F</th>\n",
       "    </tr>\n",
       "  </thead>\n",
       "  <tbody>\n",
       "    <tr>\n",
       "      <th>2030-01-01</th>\n",
       "      <td>0.000000</td>\n",
       "      <td>-0.595432</td>\n",
       "      <td>-0.023717</td>\n",
       "      <td>-0.975218</td>\n",
       "      <td>1</td>\n",
       "    </tr>\n",
       "    <tr>\n",
       "      <th>2030-01-02</th>\n",
       "      <td>0.668452</td>\n",
       "      <td>-1.396817</td>\n",
       "      <td>0.451586</td>\n",
       "      <td>1.613392</td>\n",
       "      <td>2</td>\n",
       "    </tr>\n",
       "    <tr>\n",
       "      <th>2030-01-03</th>\n",
       "      <td>0.585557</td>\n",
       "      <td>0.601437</td>\n",
       "      <td>-0.623310</td>\n",
       "      <td>-0.413874</td>\n",
       "      <td>3</td>\n",
       "    </tr>\n",
       "    <tr>\n",
       "      <th>2030-01-04</th>\n",
       "      <td>-0.623264</td>\n",
       "      <td>-0.128100</td>\n",
       "      <td>2.029726</td>\n",
       "      <td>0.640683</td>\n",
       "      <td>4</td>\n",
       "    </tr>\n",
       "    <tr>\n",
       "      <th>2030-01-05</th>\n",
       "      <td>-1.236510</td>\n",
       "      <td>0.290411</td>\n",
       "      <td>0.070861</td>\n",
       "      <td>-1.003233</td>\n",
       "      <td>5</td>\n",
       "    </tr>\n",
       "    <tr>\n",
       "      <th>2030-01-06</th>\n",
       "      <td>-1.085668</td>\n",
       "      <td>0.049273</td>\n",
       "      <td>1.666194</td>\n",
       "      <td>1.261022</td>\n",
       "      <td>6</td>\n",
       "    </tr>\n",
       "  </tbody>\n",
       "</table>\n",
       "</div>"
      ],
      "text/plain": [
       "                   A         B         C         D  F\n",
       "2030-01-01  0.000000 -0.595432 -0.023717 -0.975218  1\n",
       "2030-01-02  0.668452 -1.396817  0.451586  1.613392  2\n",
       "2030-01-03  0.585557  0.601437 -0.623310 -0.413874  3\n",
       "2030-01-04 -0.623264 -0.128100  2.029726  0.640683  4\n",
       "2030-01-05 -1.236510  0.290411  0.070861 -1.003233  5\n",
       "2030-01-06 -1.085668  0.049273  1.666194  1.261022  6"
      ]
     },
     "execution_count": 29,
     "metadata": {},
     "output_type": "execute_result"
    }
   ],
   "source": [
    "# 특정값 하나를 선택해 다른 값으로 바꾸기\n",
    "df.at[dates[0], 'A'] = 0\n",
    "# df.iat[0,1] = 0 와 같은 명령이다.\n",
    "df"
   ]
  },
  {
   "cell_type": "code",
   "execution_count": 30,
   "id": "8eccdd32",
   "metadata": {},
   "outputs": [
    {
     "data": {
      "text/html": [
       "<div>\n",
       "<style scoped>\n",
       "    .dataframe tbody tr th:only-of-type {\n",
       "        vertical-align: middle;\n",
       "    }\n",
       "\n",
       "    .dataframe tbody tr th {\n",
       "        vertical-align: top;\n",
       "    }\n",
       "\n",
       "    .dataframe thead th {\n",
       "        text-align: right;\n",
       "    }\n",
       "</style>\n",
       "<table border=\"1\" class=\"dataframe\">\n",
       "  <thead>\n",
       "    <tr style=\"text-align: right;\">\n",
       "      <th></th>\n",
       "      <th>A</th>\n",
       "      <th>B</th>\n",
       "      <th>C</th>\n",
       "      <th>D</th>\n",
       "      <th>F</th>\n",
       "    </tr>\n",
       "  </thead>\n",
       "  <tbody>\n",
       "    <tr>\n",
       "      <th>2030-01-01</th>\n",
       "      <td>0.000000</td>\n",
       "      <td>-0.595432</td>\n",
       "      <td>-0.023717</td>\n",
       "      <td>5</td>\n",
       "      <td>1</td>\n",
       "    </tr>\n",
       "    <tr>\n",
       "      <th>2030-01-02</th>\n",
       "      <td>0.668452</td>\n",
       "      <td>-1.396817</td>\n",
       "      <td>0.451586</td>\n",
       "      <td>5</td>\n",
       "      <td>2</td>\n",
       "    </tr>\n",
       "    <tr>\n",
       "      <th>2030-01-03</th>\n",
       "      <td>0.585557</td>\n",
       "      <td>0.601437</td>\n",
       "      <td>-0.623310</td>\n",
       "      <td>5</td>\n",
       "      <td>3</td>\n",
       "    </tr>\n",
       "    <tr>\n",
       "      <th>2030-01-04</th>\n",
       "      <td>-0.623264</td>\n",
       "      <td>-0.128100</td>\n",
       "      <td>2.029726</td>\n",
       "      <td>5</td>\n",
       "      <td>4</td>\n",
       "    </tr>\n",
       "    <tr>\n",
       "      <th>2030-01-05</th>\n",
       "      <td>-1.236510</td>\n",
       "      <td>0.290411</td>\n",
       "      <td>0.070861</td>\n",
       "      <td>5</td>\n",
       "      <td>5</td>\n",
       "    </tr>\n",
       "    <tr>\n",
       "      <th>2030-01-06</th>\n",
       "      <td>-1.085668</td>\n",
       "      <td>0.049273</td>\n",
       "      <td>1.666194</td>\n",
       "      <td>5</td>\n",
       "      <td>6</td>\n",
       "    </tr>\n",
       "  </tbody>\n",
       "</table>\n",
       "</div>"
      ],
      "text/plain": [
       "                   A         B         C  D  F\n",
       "2030-01-01  0.000000 -0.595432 -0.023717  5  1\n",
       "2030-01-02  0.668452 -1.396817  0.451586  5  2\n",
       "2030-01-03  0.585557  0.601437 -0.623310  5  3\n",
       "2030-01-04 -0.623264 -0.128100  2.029726  5  4\n",
       "2030-01-05 -1.236510  0.290411  0.070861  5  5\n",
       "2030-01-06 -1.085668  0.049273  1.666194  5  6"
      ]
     },
     "execution_count": 30,
     "metadata": {},
     "output_type": "execute_result"
    }
   ],
   "source": [
    "# 한번에 여러 데이터 바꾸기\n",
    "df.loc[:, 'D'] = np.array([5] * len(df))\n",
    "df"
   ]
  },
  {
   "cell_type": "code",
   "execution_count": 32,
   "id": "931fd352",
   "metadata": {},
   "outputs": [
    {
     "data": {
      "text/html": [
       "<div>\n",
       "<style scoped>\n",
       "    .dataframe tbody tr th:only-of-type {\n",
       "        vertical-align: middle;\n",
       "    }\n",
       "\n",
       "    .dataframe tbody tr th {\n",
       "        vertical-align: top;\n",
       "    }\n",
       "\n",
       "    .dataframe thead th {\n",
       "        text-align: right;\n",
       "    }\n",
       "</style>\n",
       "<table border=\"1\" class=\"dataframe\">\n",
       "  <thead>\n",
       "    <tr style=\"text-align: right;\">\n",
       "      <th></th>\n",
       "      <th>A</th>\n",
       "      <th>B</th>\n",
       "      <th>C</th>\n",
       "      <th>D</th>\n",
       "      <th>F</th>\n",
       "    </tr>\n",
       "  </thead>\n",
       "  <tbody>\n",
       "    <tr>\n",
       "      <th>2030-01-01</th>\n",
       "      <td>0.000000</td>\n",
       "      <td>-0.595432</td>\n",
       "      <td>-0.023717</td>\n",
       "      <td>-5</td>\n",
       "      <td>-1</td>\n",
       "    </tr>\n",
       "    <tr>\n",
       "      <th>2030-01-02</th>\n",
       "      <td>-0.668452</td>\n",
       "      <td>-1.396817</td>\n",
       "      <td>-0.451586</td>\n",
       "      <td>-5</td>\n",
       "      <td>-2</td>\n",
       "    </tr>\n",
       "    <tr>\n",
       "      <th>2030-01-03</th>\n",
       "      <td>-0.585557</td>\n",
       "      <td>-0.601437</td>\n",
       "      <td>-0.623310</td>\n",
       "      <td>-5</td>\n",
       "      <td>-3</td>\n",
       "    </tr>\n",
       "    <tr>\n",
       "      <th>2030-01-04</th>\n",
       "      <td>-0.623264</td>\n",
       "      <td>-0.128100</td>\n",
       "      <td>-2.029726</td>\n",
       "      <td>-5</td>\n",
       "      <td>-4</td>\n",
       "    </tr>\n",
       "    <tr>\n",
       "      <th>2030-01-05</th>\n",
       "      <td>-1.236510</td>\n",
       "      <td>-0.290411</td>\n",
       "      <td>-0.070861</td>\n",
       "      <td>-5</td>\n",
       "      <td>-5</td>\n",
       "    </tr>\n",
       "    <tr>\n",
       "      <th>2030-01-06</th>\n",
       "      <td>-1.085668</td>\n",
       "      <td>-0.049273</td>\n",
       "      <td>-1.666194</td>\n",
       "      <td>-5</td>\n",
       "      <td>-6</td>\n",
       "    </tr>\n",
       "  </tbody>\n",
       "</table>\n",
       "</div>"
      ],
      "text/plain": [
       "                   A         B         C  D  F\n",
       "2030-01-01  0.000000 -0.595432 -0.023717 -5 -1\n",
       "2030-01-02 -0.668452 -1.396817 -0.451586 -5 -2\n",
       "2030-01-03 -0.585557 -0.601437 -0.623310 -5 -3\n",
       "2030-01-04 -0.623264 -0.128100 -2.029726 -5 -4\n",
       "2030-01-05 -1.236510 -0.290411 -0.070861 -5 -5\n",
       "2030-01-06 -1.085668 -0.049273 -1.666194 -5 -6"
      ]
     },
     "execution_count": 32,
     "metadata": {},
     "output_type": "execute_result"
    }
   ],
   "source": [
    "# 음수만을 결과값으로 가지는 데이터 프레임\n",
    "df2 = df.copy()\n",
    "df2[df2 > 0] = -df2\n",
    "df2"
   ]
  },
  {
   "cell_type": "code",
   "execution_count": 35,
   "id": "a354215c",
   "metadata": {},
   "outputs": [
    {
     "data": {
      "text/html": [
       "<div>\n",
       "<style scoped>\n",
       "    .dataframe tbody tr th:only-of-type {\n",
       "        vertical-align: middle;\n",
       "    }\n",
       "\n",
       "    .dataframe tbody tr th {\n",
       "        vertical-align: top;\n",
       "    }\n",
       "\n",
       "    .dataframe thead th {\n",
       "        text-align: right;\n",
       "    }\n",
       "</style>\n",
       "<table border=\"1\" class=\"dataframe\">\n",
       "  <thead>\n",
       "    <tr style=\"text-align: right;\">\n",
       "      <th></th>\n",
       "      <th>A</th>\n",
       "      <th>B</th>\n",
       "      <th>C</th>\n",
       "      <th>D</th>\n",
       "      <th>F</th>\n",
       "      <th>E</th>\n",
       "    </tr>\n",
       "  </thead>\n",
       "  <tbody>\n",
       "    <tr>\n",
       "      <th>2030-01-01</th>\n",
       "      <td>0.000000</td>\n",
       "      <td>-0.595432</td>\n",
       "      <td>-0.023717</td>\n",
       "      <td>5</td>\n",
       "      <td>1</td>\n",
       "      <td>1.0</td>\n",
       "    </tr>\n",
       "    <tr>\n",
       "      <th>2030-01-02</th>\n",
       "      <td>0.668452</td>\n",
       "      <td>-1.396817</td>\n",
       "      <td>0.451586</td>\n",
       "      <td>5</td>\n",
       "      <td>2</td>\n",
       "      <td>1.0</td>\n",
       "    </tr>\n",
       "    <tr>\n",
       "      <th>2030-01-03</th>\n",
       "      <td>0.585557</td>\n",
       "      <td>0.601437</td>\n",
       "      <td>-0.623310</td>\n",
       "      <td>5</td>\n",
       "      <td>3</td>\n",
       "      <td>NaN</td>\n",
       "    </tr>\n",
       "    <tr>\n",
       "      <th>2030-01-04</th>\n",
       "      <td>-0.623264</td>\n",
       "      <td>-0.128100</td>\n",
       "      <td>2.029726</td>\n",
       "      <td>5</td>\n",
       "      <td>4</td>\n",
       "      <td>NaN</td>\n",
       "    </tr>\n",
       "  </tbody>\n",
       "</table>\n",
       "</div>"
      ],
      "text/plain": [
       "                   A         B         C  D  F    E\n",
       "2030-01-01  0.000000 -0.595432 -0.023717  5  1  1.0\n",
       "2030-01-02  0.668452 -1.396817  0.451586  5  2  1.0\n",
       "2030-01-03  0.585557  0.601437 -0.623310  5  3  NaN\n",
       "2030-01-04 -0.623264 -0.128100  2.029726  5  4  NaN"
      ]
     },
     "execution_count": 35,
     "metadata": {},
     "output_type": "execute_result"
    }
   ],
   "source": [
    "# 결측치 = missing data\n",
    "# np.nan -> Pandas는 연산에서 제외한다.\n",
    "# 재인덱싱(reindex)은 해당 축에 대해 인덱스를 변경/ 추가/ 삭제를 하게 됩니다.\n",
    "# 이는 복사한 데이터프레임을 반환합니다.\n",
    "\n",
    "df1 = df.reindex(index=dates[0:4], columns=list(df.columns) + ['E'])\n",
    "df1.loc[dates[0] : dates[1], 'E'] = 1\n",
    "df1"
   ]
  },
  {
   "cell_type": "code",
   "execution_count": 36,
   "id": "f3735a1e",
   "metadata": {},
   "outputs": [
    {
     "data": {
      "text/html": [
       "<div>\n",
       "<style scoped>\n",
       "    .dataframe tbody tr th:only-of-type {\n",
       "        vertical-align: middle;\n",
       "    }\n",
       "\n",
       "    .dataframe tbody tr th {\n",
       "        vertical-align: top;\n",
       "    }\n",
       "\n",
       "    .dataframe thead th {\n",
       "        text-align: right;\n",
       "    }\n",
       "</style>\n",
       "<table border=\"1\" class=\"dataframe\">\n",
       "  <thead>\n",
       "    <tr style=\"text-align: right;\">\n",
       "      <th></th>\n",
       "      <th>A</th>\n",
       "      <th>B</th>\n",
       "      <th>C</th>\n",
       "      <th>D</th>\n",
       "      <th>F</th>\n",
       "      <th>E</th>\n",
       "    </tr>\n",
       "  </thead>\n",
       "  <tbody>\n",
       "    <tr>\n",
       "      <th>2030-01-01</th>\n",
       "      <td>0.000000</td>\n",
       "      <td>-0.595432</td>\n",
       "      <td>-0.023717</td>\n",
       "      <td>5</td>\n",
       "      <td>1</td>\n",
       "      <td>1.0</td>\n",
       "    </tr>\n",
       "    <tr>\n",
       "      <th>2030-01-02</th>\n",
       "      <td>0.668452</td>\n",
       "      <td>-1.396817</td>\n",
       "      <td>0.451586</td>\n",
       "      <td>5</td>\n",
       "      <td>2</td>\n",
       "      <td>1.0</td>\n",
       "    </tr>\n",
       "  </tbody>\n",
       "</table>\n",
       "</div>"
      ],
      "text/plain": [
       "                   A         B         C  D  F    E\n",
       "2030-01-01  0.000000 -0.595432 -0.023717  5  1  1.0\n",
       "2030-01-02  0.668452 -1.396817  0.451586  5  2  1.0"
      ]
     },
     "execution_count": 36,
     "metadata": {},
     "output_type": "execute_result"
    }
   ],
   "source": [
    "# 결측치 존재하면 다버리는 dropna\n",
    "df1.dropna(how='any')"
   ]
  },
  {
   "cell_type": "code",
   "execution_count": 39,
   "id": "24f2caa5",
   "metadata": {},
   "outputs": [
    {
     "data": {
      "text/html": [
       "<div>\n",
       "<style scoped>\n",
       "    .dataframe tbody tr th:only-of-type {\n",
       "        vertical-align: middle;\n",
       "    }\n",
       "\n",
       "    .dataframe tbody tr th {\n",
       "        vertical-align: top;\n",
       "    }\n",
       "\n",
       "    .dataframe thead th {\n",
       "        text-align: right;\n",
       "    }\n",
       "</style>\n",
       "<table border=\"1\" class=\"dataframe\">\n",
       "  <thead>\n",
       "    <tr style=\"text-align: right;\">\n",
       "      <th></th>\n",
       "      <th>A</th>\n",
       "      <th>B</th>\n",
       "      <th>C</th>\n",
       "      <th>D</th>\n",
       "      <th>F</th>\n",
       "      <th>E</th>\n",
       "    </tr>\n",
       "  </thead>\n",
       "  <tbody>\n",
       "    <tr>\n",
       "      <th>2030-01-01</th>\n",
       "      <td>0.000000</td>\n",
       "      <td>-0.595432</td>\n",
       "      <td>-0.023717</td>\n",
       "      <td>5</td>\n",
       "      <td>1</td>\n",
       "      <td>1.0</td>\n",
       "    </tr>\n",
       "    <tr>\n",
       "      <th>2030-01-02</th>\n",
       "      <td>0.668452</td>\n",
       "      <td>-1.396817</td>\n",
       "      <td>0.451586</td>\n",
       "      <td>5</td>\n",
       "      <td>2</td>\n",
       "      <td>1.0</td>\n",
       "    </tr>\n",
       "    <tr>\n",
       "      <th>2030-01-03</th>\n",
       "      <td>0.585557</td>\n",
       "      <td>0.601437</td>\n",
       "      <td>-0.623310</td>\n",
       "      <td>5</td>\n",
       "      <td>3</td>\n",
       "      <td>5.0</td>\n",
       "    </tr>\n",
       "    <tr>\n",
       "      <th>2030-01-04</th>\n",
       "      <td>-0.623264</td>\n",
       "      <td>-0.128100</td>\n",
       "      <td>2.029726</td>\n",
       "      <td>5</td>\n",
       "      <td>4</td>\n",
       "      <td>5.0</td>\n",
       "    </tr>\n",
       "  </tbody>\n",
       "</table>\n",
       "</div>"
      ],
      "text/plain": [
       "                   A         B         C  D  F    E\n",
       "2030-01-01  0.000000 -0.595432 -0.023717  5  1  1.0\n",
       "2030-01-02  0.668452 -1.396817  0.451586  5  2  1.0\n",
       "2030-01-03  0.585557  0.601437 -0.623310  5  3  5.0\n",
       "2030-01-04 -0.623264 -0.128100  2.029726  5  4  5.0"
      ]
     },
     "execution_count": 39,
     "metadata": {},
     "output_type": "execute_result"
    }
   ],
   "source": [
    "# 결측치 존재하면 다른거로 채우는 fillna\n",
    "df1.fillna(value=5)"
   ]
  },
  {
   "cell_type": "code",
   "execution_count": 40,
   "id": "fddb9353",
   "metadata": {},
   "outputs": [
    {
     "data": {
      "text/html": [
       "<div>\n",
       "<style scoped>\n",
       "    .dataframe tbody tr th:only-of-type {\n",
       "        vertical-align: middle;\n",
       "    }\n",
       "\n",
       "    .dataframe tbody tr th {\n",
       "        vertical-align: top;\n",
       "    }\n",
       "\n",
       "    .dataframe thead th {\n",
       "        text-align: right;\n",
       "    }\n",
       "</style>\n",
       "<table border=\"1\" class=\"dataframe\">\n",
       "  <thead>\n",
       "    <tr style=\"text-align: right;\">\n",
       "      <th></th>\n",
       "      <th>A</th>\n",
       "      <th>B</th>\n",
       "      <th>C</th>\n",
       "      <th>D</th>\n",
       "      <th>F</th>\n",
       "      <th>E</th>\n",
       "    </tr>\n",
       "  </thead>\n",
       "  <tbody>\n",
       "    <tr>\n",
       "      <th>2030-01-01</th>\n",
       "      <td>False</td>\n",
       "      <td>False</td>\n",
       "      <td>False</td>\n",
       "      <td>False</td>\n",
       "      <td>False</td>\n",
       "      <td>False</td>\n",
       "    </tr>\n",
       "    <tr>\n",
       "      <th>2030-01-02</th>\n",
       "      <td>False</td>\n",
       "      <td>False</td>\n",
       "      <td>False</td>\n",
       "      <td>False</td>\n",
       "      <td>False</td>\n",
       "      <td>False</td>\n",
       "    </tr>\n",
       "    <tr>\n",
       "      <th>2030-01-03</th>\n",
       "      <td>False</td>\n",
       "      <td>False</td>\n",
       "      <td>False</td>\n",
       "      <td>False</td>\n",
       "      <td>False</td>\n",
       "      <td>True</td>\n",
       "    </tr>\n",
       "    <tr>\n",
       "      <th>2030-01-04</th>\n",
       "      <td>False</td>\n",
       "      <td>False</td>\n",
       "      <td>False</td>\n",
       "      <td>False</td>\n",
       "      <td>False</td>\n",
       "      <td>True</td>\n",
       "    </tr>\n",
       "  </tbody>\n",
       "</table>\n",
       "</div>"
      ],
      "text/plain": [
       "                A      B      C      D      F      E\n",
       "2030-01-01  False  False  False  False  False  False\n",
       "2030-01-02  False  False  False  False  False  False\n",
       "2030-01-03  False  False  False  False  False   True\n",
       "2030-01-04  False  False  False  False  False   True"
      ]
     },
     "execution_count": 40,
     "metadata": {},
     "output_type": "execute_result"
    }
   ],
   "source": [
    "# 해당 값이 결측치인지 확인하는 isna\n",
    "pd.isna(df1)"
   ]
  },
  {
   "cell_type": "code",
   "execution_count": 41,
   "id": "3be983df",
   "metadata": {},
   "outputs": [
    {
     "data": {
      "text/plain": [
       "A   -0.281906\n",
       "B   -0.196538\n",
       "C    0.595224\n",
       "D    5.000000\n",
       "F    3.500000\n",
       "dtype: float64"
      ]
     },
     "execution_count": 41,
     "metadata": {},
     "output_type": "execute_result"
    }
   ],
   "source": [
    "# 연산\n",
    "# 행으로 평균 구하기\n",
    "df.mean()"
   ]
  },
  {
   "cell_type": "code",
   "execution_count": 42,
   "id": "945ee7e1",
   "metadata": {},
   "outputs": [
    {
     "data": {
      "text/plain": [
       "2030-01-01    1.076170\n",
       "2030-01-02    1.344644\n",
       "2030-01-03    1.712737\n",
       "2030-01-04    2.055673\n",
       "2030-01-05    1.824952\n",
       "2030-01-06    2.325960\n",
       "Freq: D, dtype: float64"
      ]
     },
     "execution_count": 42,
     "metadata": {},
     "output_type": "execute_result"
    }
   ],
   "source": [
    "# 열을 (=인덱스를)기준으로 평균 구하기\n",
    "df.mean(1)"
   ]
  },
  {
   "cell_type": "code",
   "execution_count": 44,
   "id": "73eb0c17",
   "metadata": {},
   "outputs": [
    {
     "data": {
      "text/plain": [
       "2030-01-01    NaN\n",
       "2030-01-02    NaN\n",
       "2030-01-03    1.0\n",
       "2030-01-04    3.0\n",
       "2030-01-05    5.0\n",
       "2030-01-06    NaN\n",
       "Freq: D, dtype: float64"
      ]
     },
     "execution_count": 44,
     "metadata": {},
     "output_type": "execute_result"
    }
   ],
   "source": [
    "# 차원이 달라 인덱스를 맞춰야하는 두 오브젝트 간 연산 예제.\n",
    "s = pd.Series([1, 3, 5, np.nan, 6, 8], index=dates).shift(2)\n",
    "s "
   ]
  },
  {
   "cell_type": "code",
   "execution_count": 45,
   "id": "d867b7b8",
   "metadata": {},
   "outputs": [
    {
     "data": {
      "text/html": [
       "<div>\n",
       "<style scoped>\n",
       "    .dataframe tbody tr th:only-of-type {\n",
       "        vertical-align: middle;\n",
       "    }\n",
       "\n",
       "    .dataframe tbody tr th {\n",
       "        vertical-align: top;\n",
       "    }\n",
       "\n",
       "    .dataframe thead th {\n",
       "        text-align: right;\n",
       "    }\n",
       "</style>\n",
       "<table border=\"1\" class=\"dataframe\">\n",
       "  <thead>\n",
       "    <tr style=\"text-align: right;\">\n",
       "      <th></th>\n",
       "      <th>A</th>\n",
       "      <th>B</th>\n",
       "      <th>C</th>\n",
       "      <th>D</th>\n",
       "      <th>F</th>\n",
       "    </tr>\n",
       "  </thead>\n",
       "  <tbody>\n",
       "    <tr>\n",
       "      <th>2030-01-01</th>\n",
       "      <td>NaN</td>\n",
       "      <td>NaN</td>\n",
       "      <td>NaN</td>\n",
       "      <td>NaN</td>\n",
       "      <td>NaN</td>\n",
       "    </tr>\n",
       "    <tr>\n",
       "      <th>2030-01-02</th>\n",
       "      <td>NaN</td>\n",
       "      <td>NaN</td>\n",
       "      <td>NaN</td>\n",
       "      <td>NaN</td>\n",
       "      <td>NaN</td>\n",
       "    </tr>\n",
       "    <tr>\n",
       "      <th>2030-01-03</th>\n",
       "      <td>-0.414443</td>\n",
       "      <td>-0.398563</td>\n",
       "      <td>-1.623310</td>\n",
       "      <td>4.0</td>\n",
       "      <td>2.0</td>\n",
       "    </tr>\n",
       "    <tr>\n",
       "      <th>2030-01-04</th>\n",
       "      <td>-3.623264</td>\n",
       "      <td>-3.128100</td>\n",
       "      <td>-0.970274</td>\n",
       "      <td>2.0</td>\n",
       "      <td>1.0</td>\n",
       "    </tr>\n",
       "    <tr>\n",
       "      <th>2030-01-05</th>\n",
       "      <td>-6.236510</td>\n",
       "      <td>-4.709589</td>\n",
       "      <td>-4.929139</td>\n",
       "      <td>0.0</td>\n",
       "      <td>0.0</td>\n",
       "    </tr>\n",
       "    <tr>\n",
       "      <th>2030-01-06</th>\n",
       "      <td>NaN</td>\n",
       "      <td>NaN</td>\n",
       "      <td>NaN</td>\n",
       "      <td>NaN</td>\n",
       "      <td>NaN</td>\n",
       "    </tr>\n",
       "  </tbody>\n",
       "</table>\n",
       "</div>"
      ],
      "text/plain": [
       "                   A         B         C    D    F\n",
       "2030-01-01       NaN       NaN       NaN  NaN  NaN\n",
       "2030-01-02       NaN       NaN       NaN  NaN  NaN\n",
       "2030-01-03 -0.414443 -0.398563 -1.623310  4.0  2.0\n",
       "2030-01-04 -3.623264 -3.128100 -0.970274  2.0  1.0\n",
       "2030-01-05 -6.236510 -4.709589 -4.929139  0.0  0.0\n",
       "2030-01-06       NaN       NaN       NaN  NaN  NaN"
      ]
     },
     "execution_count": 45,
     "metadata": {},
     "output_type": "execute_result"
    }
   ],
   "source": [
    "df.sub(s, axis='index')"
   ]
  },
  {
   "cell_type": "code",
   "execution_count": 46,
   "id": "9ab0592c",
   "metadata": {},
   "outputs": [
    {
     "data": {
      "text/html": [
       "<div>\n",
       "<style scoped>\n",
       "    .dataframe tbody tr th:only-of-type {\n",
       "        vertical-align: middle;\n",
       "    }\n",
       "\n",
       "    .dataframe tbody tr th {\n",
       "        vertical-align: top;\n",
       "    }\n",
       "\n",
       "    .dataframe thead th {\n",
       "        text-align: right;\n",
       "    }\n",
       "</style>\n",
       "<table border=\"1\" class=\"dataframe\">\n",
       "  <thead>\n",
       "    <tr style=\"text-align: right;\">\n",
       "      <th></th>\n",
       "      <th>A</th>\n",
       "      <th>B</th>\n",
       "      <th>C</th>\n",
       "      <th>D</th>\n",
       "      <th>F</th>\n",
       "    </tr>\n",
       "  </thead>\n",
       "  <tbody>\n",
       "    <tr>\n",
       "      <th>2030-01-01</th>\n",
       "      <td>0.000000</td>\n",
       "      <td>-0.595432</td>\n",
       "      <td>-0.023717</td>\n",
       "      <td>5</td>\n",
       "      <td>1</td>\n",
       "    </tr>\n",
       "    <tr>\n",
       "      <th>2030-01-02</th>\n",
       "      <td>0.668452</td>\n",
       "      <td>-1.992249</td>\n",
       "      <td>0.427869</td>\n",
       "      <td>10</td>\n",
       "      <td>3</td>\n",
       "    </tr>\n",
       "    <tr>\n",
       "      <th>2030-01-03</th>\n",
       "      <td>1.254009</td>\n",
       "      <td>-1.390812</td>\n",
       "      <td>-0.195440</td>\n",
       "      <td>15</td>\n",
       "      <td>6</td>\n",
       "    </tr>\n",
       "    <tr>\n",
       "      <th>2030-01-04</th>\n",
       "      <td>0.630746</td>\n",
       "      <td>-1.518912</td>\n",
       "      <td>1.834286</td>\n",
       "      <td>20</td>\n",
       "      <td>10</td>\n",
       "    </tr>\n",
       "    <tr>\n",
       "      <th>2030-01-05</th>\n",
       "      <td>-0.605765</td>\n",
       "      <td>-1.228501</td>\n",
       "      <td>1.905147</td>\n",
       "      <td>25</td>\n",
       "      <td>15</td>\n",
       "    </tr>\n",
       "    <tr>\n",
       "      <th>2030-01-06</th>\n",
       "      <td>-1.691433</td>\n",
       "      <td>-1.179228</td>\n",
       "      <td>3.571342</td>\n",
       "      <td>30</td>\n",
       "      <td>21</td>\n",
       "    </tr>\n",
       "  </tbody>\n",
       "</table>\n",
       "</div>"
      ],
      "text/plain": [
       "                   A         B         C   D   F\n",
       "2030-01-01  0.000000 -0.595432 -0.023717   5   1\n",
       "2030-01-02  0.668452 -1.992249  0.427869  10   3\n",
       "2030-01-03  1.254009 -1.390812 -0.195440  15   6\n",
       "2030-01-04  0.630746 -1.518912  1.834286  20  10\n",
       "2030-01-05 -0.605765 -1.228501  1.905147  25  15\n",
       "2030-01-06 -1.691433 -1.179228  3.571342  30  21"
      ]
     },
     "execution_count": 46,
     "metadata": {},
     "output_type": "execute_result"
    }
   ],
   "source": [
    "# 데이터프레임에 함수 적용하기.\n",
    "df.apply(np.cumsum)"
   ]
  },
  {
   "cell_type": "code",
   "execution_count": 47,
   "id": "b65b2375",
   "metadata": {},
   "outputs": [
    {
     "data": {
      "text/html": [
       "<div>\n",
       "<style scoped>\n",
       "    .dataframe tbody tr th:only-of-type {\n",
       "        vertical-align: middle;\n",
       "    }\n",
       "\n",
       "    .dataframe tbody tr th {\n",
       "        vertical-align: top;\n",
       "    }\n",
       "\n",
       "    .dataframe thead th {\n",
       "        text-align: right;\n",
       "    }\n",
       "</style>\n",
       "<table border=\"1\" class=\"dataframe\">\n",
       "  <thead>\n",
       "    <tr style=\"text-align: right;\">\n",
       "      <th></th>\n",
       "      <th>A</th>\n",
       "      <th>B</th>\n",
       "      <th>C</th>\n",
       "      <th>D</th>\n",
       "      <th>F</th>\n",
       "    </tr>\n",
       "  </thead>\n",
       "  <tbody>\n",
       "    <tr>\n",
       "      <th>2030-01-01</th>\n",
       "      <td>0.000000</td>\n",
       "      <td>-0.595432</td>\n",
       "      <td>-0.023717</td>\n",
       "      <td>5</td>\n",
       "      <td>1</td>\n",
       "    </tr>\n",
       "    <tr>\n",
       "      <th>2030-01-02</th>\n",
       "      <td>0.668452</td>\n",
       "      <td>-1.396817</td>\n",
       "      <td>0.451586</td>\n",
       "      <td>5</td>\n",
       "      <td>2</td>\n",
       "    </tr>\n",
       "    <tr>\n",
       "      <th>2030-01-03</th>\n",
       "      <td>0.585557</td>\n",
       "      <td>0.601437</td>\n",
       "      <td>-0.623310</td>\n",
       "      <td>5</td>\n",
       "      <td>3</td>\n",
       "    </tr>\n",
       "    <tr>\n",
       "      <th>2030-01-04</th>\n",
       "      <td>-0.623264</td>\n",
       "      <td>-0.128100</td>\n",
       "      <td>2.029726</td>\n",
       "      <td>5</td>\n",
       "      <td>4</td>\n",
       "    </tr>\n",
       "    <tr>\n",
       "      <th>2030-01-05</th>\n",
       "      <td>-1.236510</td>\n",
       "      <td>0.290411</td>\n",
       "      <td>0.070861</td>\n",
       "      <td>5</td>\n",
       "      <td>5</td>\n",
       "    </tr>\n",
       "    <tr>\n",
       "      <th>2030-01-06</th>\n",
       "      <td>-1.085668</td>\n",
       "      <td>0.049273</td>\n",
       "      <td>1.666194</td>\n",
       "      <td>5</td>\n",
       "      <td>6</td>\n",
       "    </tr>\n",
       "  </tbody>\n",
       "</table>\n",
       "</div>"
      ],
      "text/plain": [
       "                   A         B         C  D  F\n",
       "2030-01-01  0.000000 -0.595432 -0.023717  5  1\n",
       "2030-01-02  0.668452 -1.396817  0.451586  5  2\n",
       "2030-01-03  0.585557  0.601437 -0.623310  5  3\n",
       "2030-01-04 -0.623264 -0.128100  2.029726  5  4\n",
       "2030-01-05 -1.236510  0.290411  0.070861  5  5\n",
       "2030-01-06 -1.085668  0.049273  1.666194  5  6"
      ]
     },
     "execution_count": 47,
     "metadata": {},
     "output_type": "execute_result"
    }
   ],
   "source": [
    "df"
   ]
  },
  {
   "cell_type": "code",
   "execution_count": 48,
   "id": "713bc8be",
   "metadata": {},
   "outputs": [
    {
     "data": {
      "text/plain": [
       "A    1.904962\n",
       "B    1.998254\n",
       "C    2.653036\n",
       "D    0.000000\n",
       "F    5.000000\n",
       "dtype: float64"
      ]
     },
     "execution_count": 48,
     "metadata": {},
     "output_type": "execute_result"
    }
   ],
   "source": [
    "df.apply(lambda x: x.max() - x.min())"
   ]
  },
  {
   "cell_type": "code",
   "execution_count": 52,
   "id": "0c1bebd6",
   "metadata": {},
   "outputs": [
    {
     "data": {
      "text/plain": [
       "<AxesSubplot:>"
      ]
     },
     "execution_count": 52,
     "metadata": {},
     "output_type": "execute_result"
    },
    {
     "data": {
      "image/png": "[encoded data removed]",
      "text/plain": [
       "<Figure size 432x288 with 1 Axes>"
      ]
     },
     "metadata": {
      "needs_background": "light"
     },
     "output_type": "display_data"
    }
   ],
   "source": [
    "# plot 으로 그래프 그리기\n",
    "ts = pd.Series(np.random.randn(1000), index=pd.date_range('1/1/2000', periods=1000))\n",
    "ts = ts.cumsum()\n",
    "ts.plot()"
   ]
  },
  {
   "cell_type": "code",
   "execution_count": null,
   "id": "ed0dc60a",
   "metadata": {},
   "outputs": [],
   "source": []
  }
 ],
 "metadata": {
  "kernelspec": {
   "display_name": "Python 3 (ipykernel)",
   "language": "python",
   "name": "python3"
  },
  "language_info": {
   "codemirror_mode": {
    "name": "ipython",
    "version": 3
   },
   "file_extension": ".py",
   "mimetype": "text/x-python",
   "name": "python",
   "nbconvert_exporter": "python",
   "pygments_lexer": "ipython3",
   "version": "3.10.4"
  }
 },
 "nbformat": 4,
 "nbformat_minor": 5
}
